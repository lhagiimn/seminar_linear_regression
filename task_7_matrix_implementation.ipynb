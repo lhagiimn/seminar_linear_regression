{
 "cells": [
  {
   "cell_type": "code",
   "execution_count": 9,
   "id": "c41f63f5-3f27-4027-9158-2922b94e54a6",
   "metadata": {},
   "outputs": [],
   "source": [
    "import numpy as np\n",
    "a_ndarray = np.array([[-1, 2, 3], [4, -5, 6], [7, 8, -9]])\n",
    "b_ndarray = np.array([[0, 2, 1], [0, 2, -8], [2, 9, -1]])"
   ]
  },
  {
   "cell_type": "code",
   "execution_count": 13,
   "id": "29a2feee-1b57-445b-8a81-4efe57fbe2d1",
   "metadata": {},
   "outputs": [
    {
     "data": {
      "text/plain": [
       "array([[  6.,  29., -20.],\n",
       "       [ 12.,  52.,  38.],\n",
       "       [-18., -51., -48.]])"
      ]
     },
     "execution_count": 13,
     "metadata": {},
     "output_type": "execute_result"
    }
   ],
   "source": [
    "#[Problem 1] Matrix product is calculated manually\n",
    "# the element of result matrix should be equal to multiplication of column of the first matrix and row of the second matrix \n",
    "c_array = np.zeros((a_ndarray.shape[0], b_ndarray.shape[1]))\n",
    "\n",
    "for i in range(a_ndarray.shape[0]):\n",
    "    for j in range(b_ndarray.shape[1]):\n",
    "        c_array[i, j] = np.sum(a_ndarray[i, :] * b_ndarray[:, j])\n",
    "    \n",
    "c_array"
   ]
  },
  {
   "cell_type": "code",
   "execution_count": 13,
   "id": "e3d7b9ae-3a33-4a16-9b57-5eaa0aeed199",
   "metadata": {},
   "outputs": [
    {
     "data": {
      "text/plain": [
       "array([[  6.,  29., -20.],\n",
       "       [ 12.,  52.,  38.],\n",
       "       [-18., -51., -48.]])"
      ]
     },
     "execution_count": 13,
     "metadata": {},
     "output_type": "execute_result"
    }
   ],
   "source": [
    "#[Problem 1] Matrix product is calculated manually\n",
    "c_array = np.zeros((a_ndarray.shape[0], b_ndarray.shape[1]))\n",
    "\n",
    "for i in range(a_ndarray.shape[0]):\n",
    "    for j in range(b_ndarray.shape[1]):\n",
    "        c_array[i, j] = np.sum(a_ndarray[i, :] * b_ndarray[:, j])\n",
    "    \n",
    "c_array"
   ]
  },
  {
   "cell_type": "code",
   "execution_count": 11,
   "id": "4e2b2038-42e3-4439-af97-9f81a47bc7bc",
   "metadata": {},
   "outputs": [
    {
     "name": "stdout",
     "output_type": "stream",
     "text": [
      "[[  6  29 -20]\n",
      " [ 12  52  38]\n",
      " [-18 -51 -48]]\n"
     ]
    }
   ],
   "source": [
    "#[Problem 2] Calculation by NumPy function\n",
    "a_ndarray = np.array([[-1, 2, 3], [4, -5, 6], [7, 8, -9]])\n",
    "b_ndarray = np.array([[0, 2, 1], [0, 2, -8], [2, 9, -1]])\n",
    "\n",
    "result = np.matmul(a_ndarray, b_ndarray)\n",
    "print(result)"
   ]
  },
  {
   "cell_type": "code",
   "execution_count": 14,
   "id": "7a9e6ca4-6071-4f5d-b504-c54cae5ebc3d",
   "metadata": {},
   "outputs": [
    {
     "name": "stdout",
     "output_type": "stream",
     "text": [
      "6\n"
     ]
    }
   ],
   "source": [
    "#[Problem 3] Implementation of calculation of a certain element\n",
    "def calculate_element(a, b, i, j):\n",
    "    element = 0\n",
    "    for k in range(len(a[0])):\n",
    "        element += a[i, k] * b[k, j]\n",
    "    return element\n",
    "\n",
    "element_00 = calculate_element(a_ndarray, b_ndarray, 0, 0)\n",
    "print(element_00)"
   ]
  },
  {
   "cell_type": "code",
   "execution_count": 20,
   "id": "28f62579-5ec7-4401-87d2-50d26615c0e4",
   "metadata": {},
   "outputs": [
    {
     "name": "stdout",
     "output_type": "stream",
     "text": [
      "[[  6.  29. -20.]\n",
      " [ 12.  52.  38.]\n",
      " [-18. -51. -48.]]\n",
      "(2,)\n"
     ]
    },
    {
     "ename": "IndexError",
     "evalue": "tuple index out of range",
     "output_type": "error",
     "traceback": [
      "\u001b[1;31m---------------------------------------------------------------------------\u001b[0m",
      "\u001b[1;31mIndexError\u001b[0m                                Traceback (most recent call last)",
      "Cell \u001b[1;32mIn[20], line 25\u001b[0m\n\u001b[0;32m     23\u001b[0m e_ndarray \u001b[38;5;241m=\u001b[39m np\u001b[38;5;241m.\u001b[39mrandom\u001b[38;5;241m.\u001b[39mrandint((\u001b[38;5;241m6\u001b[39m, \u001b[38;5;241m7\u001b[39m))\n\u001b[0;32m     24\u001b[0m \u001b[38;5;28mprint\u001b[39m(d_ndarray\u001b[38;5;241m.\u001b[39mshape)\n\u001b[1;32m---> 25\u001b[0m result_safe \u001b[38;5;241m=\u001b[39m \u001b[43mmatrix_multiply_safe\u001b[49m\u001b[43m(\u001b[49m\u001b[43md_ndarray\u001b[49m\u001b[43m,\u001b[49m\u001b[43m \u001b[49m\u001b[43me_ndarray\u001b[49m\u001b[43m)\u001b[49m\n\u001b[0;32m     26\u001b[0m \u001b[38;5;28;01mif\u001b[39;00m result_safe \u001b[38;5;129;01mis\u001b[39;00m \u001b[38;5;129;01mnot\u001b[39;00m \u001b[38;5;28;01mNone\u001b[39;00m:\n\u001b[0;32m     27\u001b[0m     \u001b[38;5;28mprint\u001b[39m(result_safe)\n",
      "Cell \u001b[1;32mIn[20], line 15\u001b[0m, in \u001b[0;36mmatrix_multiply_safe\u001b[1;34m(a, b)\u001b[0m\n\u001b[0;32m     14\u001b[0m \u001b[38;5;28;01mdef\u001b[39;00m \u001b[38;5;21mmatrix_multiply_safe\u001b[39m(a, b):\n\u001b[1;32m---> 15\u001b[0m     \u001b[38;5;28;01mif\u001b[39;00m \u001b[43ma\u001b[49m\u001b[38;5;241;43m.\u001b[39;49m\u001b[43mshape\u001b[49m\u001b[43m[\u001b[49m\u001b[38;5;241;43m1\u001b[39;49m\u001b[43m]\u001b[49m \u001b[38;5;241m!=\u001b[39m b\u001b[38;5;241m.\u001b[39mshape[\u001b[38;5;241m0\u001b[39m]:\n\u001b[0;32m     16\u001b[0m         \u001b[38;5;28mprint\u001b[39m(\u001b[38;5;124m\"\u001b[39m\u001b[38;5;124mError: Matrix multiplication is not defined for the given matrices.\u001b[39m\u001b[38;5;124m\"\u001b[39m)\n\u001b[0;32m     17\u001b[0m         \u001b[38;5;28;01mreturn\u001b[39;00m \u001b[38;5;28;01mNone\u001b[39;00m\n",
      "\u001b[1;31mIndexError\u001b[0m: tuple index out of range"
     ]
    }
   ],
   "source": [
    "#[Problem 4] Creating a function that performs matrix multiplication\n",
    "\n",
    "def matrix_multiply(a, b):\n",
    "    c = np.zeros((len(a), len(b[0])))\n",
    "    for i in range(len(a)):\n",
    "        for j in range(len(b[0])):\n",
    "            c[i, j] = calculate_element(a, b, i, j)\n",
    "    return c\n",
    "\n",
    "result_scratch = matrix_multiply(a_ndarray, b_ndarray)\n",
    "print(result_scratch)\n",
    "\n",
    "\n",
    "def matrix_multiply_safe(a, b):\n",
    "    if a.shape[1] != b.shape[0]:\n",
    "        print(\"Error: Matrix multiplication is not defined for the given matrices.\")\n",
    "        return None\n",
    "    else:\n",
    "        return matrix_multiply(a, b)\n",
    "\n",
    "# Example usage:\n",
    "d_ndarray = np.random.rand((5, 4))\n",
    "e_ndarray = np.random.randint((6, 7))\n",
    "result_safe = matrix_multiply_safe(d_ndarray, e_ndarray)\n",
    "if result_safe is not None:\n",
    "    print(result_safe)"
   ]
  },
  {
   "cell_type": "code",
   "execution_count": 8,
   "id": "81e6018c-4e0a-41ac-a6ef-06be82d57cd2",
   "metadata": {},
   "outputs": [
    {
     "name": "stdout",
     "output_type": "stream",
     "text": [
      "(1000, 3)\n"
     ]
    },
    {
     "data": {
      "text/plain": [
       "array([[-4.80006782, -1.54698618,  0.        ],\n",
       "       [-4.63714503, -0.21987973,  0.        ],\n",
       "       [-4.46267867, -2.08076347,  0.        ],\n",
       "       ...,\n",
       "       [-0.2185878 , -3.15676476,  1.        ],\n",
       "       [-1.37970304, -4.27950068,  1.        ],\n",
       "       [ 1.49786804, -2.33126243,  1.        ]])"
      ]
     },
     "execution_count": 8,
     "metadata": {},
     "output_type": "execute_result"
    }
   ],
   "source": [
    "# Problem 6: Labeling\n",
    "labels = np.zeros((1000, 1))\n",
    "labels[500:] = 1\n",
    "    \n",
    "combined_data = np.hstack((data, labels))\n",
    "print(combined_data.shape)\n",
    "combined_data"
   ]
  },
  {
   "cell_type": "code",
   "execution_count": null,
   "id": "daa451a5-b775-4f67-8a47-d14b9e0c73bb",
   "metadata": {},
   "outputs": [],
   "source": []
  }
 ],
 "metadata": {
  "kernelspec": {
   "display_name": "Python 3 (ipykernel)",
   "language": "python",
   "name": "python3"
  },
  "language_info": {
   "codemirror_mode": {
    "name": "ipython",
    "version": 3
   },
   "file_extension": ".py",
   "mimetype": "text/x-python",
   "name": "python",
   "nbconvert_exporter": "python",
   "pygments_lexer": "ipython3",
   "version": "3.10.11"
  }
 },
 "nbformat": 4,
 "nbformat_minor": 5
}
